{
 "cells": [
  {
   "cell_type": "code",
   "execution_count": 1,
   "metadata": {},
   "outputs": [
    {
     "name": "stdout",
     "output_type": "stream",
     "text": [
      "Requirement already satisfied: langchain-openai in /Users/heewongwak/.pyenv/versions/inflearn-llm-application/lib/python3.9/site-packages (0.2.12)\n",
      "Requirement already satisfied: python-dotenv in /Users/heewongwak/.pyenv/versions/inflearn-llm-application/lib/python3.9/site-packages (1.0.1)\n",
      "Requirement already satisfied: tiktoken<1,>=0.7 in /Users/heewongwak/.pyenv/versions/inflearn-llm-application/lib/python3.9/site-packages (from langchain-openai) (0.8.0)\n",
      "Requirement already satisfied: langchain-core<0.4.0,>=0.3.21 in /Users/heewongwak/.pyenv/versions/inflearn-llm-application/lib/python3.9/site-packages (from langchain-openai) (0.3.25)\n",
      "Requirement already satisfied: openai<2.0.0,>=1.55.3 in /Users/heewongwak/.pyenv/versions/inflearn-llm-application/lib/python3.9/site-packages (from langchain-openai) (1.57.4)\n",
      "Requirement already satisfied: packaging<25,>=23.2 in /Users/heewongwak/.pyenv/versions/inflearn-llm-application/lib/python3.9/site-packages (from langchain-core<0.4.0,>=0.3.21->langchain-openai) (24.2)\n",
      "Requirement already satisfied: PyYAML>=5.3 in /Users/heewongwak/.pyenv/versions/inflearn-llm-application/lib/python3.9/site-packages (from langchain-core<0.4.0,>=0.3.21->langchain-openai) (6.0.2)\n",
      "Requirement already satisfied: tenacity!=8.4.0,<10.0.0,>=8.1.0 in /Users/heewongwak/.pyenv/versions/inflearn-llm-application/lib/python3.9/site-packages (from langchain-core<0.4.0,>=0.3.21->langchain-openai) (9.0.0)\n",
      "Requirement already satisfied: langsmith<0.3,>=0.1.125 in /Users/heewongwak/.pyenv/versions/inflearn-llm-application/lib/python3.9/site-packages (from langchain-core<0.4.0,>=0.3.21->langchain-openai) (0.2.3)\n",
      "Requirement already satisfied: jsonpatch<2.0,>=1.33 in /Users/heewongwak/.pyenv/versions/inflearn-llm-application/lib/python3.9/site-packages (from langchain-core<0.4.0,>=0.3.21->langchain-openai) (1.33)\n",
      "Requirement already satisfied: pydantic<3.0.0,>=2.5.2 in /Users/heewongwak/.pyenv/versions/inflearn-llm-application/lib/python3.9/site-packages (from langchain-core<0.4.0,>=0.3.21->langchain-openai) (2.10.3)\n",
      "Requirement already satisfied: typing-extensions>=4.7 in /Users/heewongwak/.pyenv/versions/inflearn-llm-application/lib/python3.9/site-packages (from langchain-core<0.4.0,>=0.3.21->langchain-openai) (4.12.2)\n",
      "Requirement already satisfied: jsonpointer>=1.9 in /Users/heewongwak/.pyenv/versions/inflearn-llm-application/lib/python3.9/site-packages (from jsonpatch<2.0,>=1.33->langchain-core<0.4.0,>=0.3.21->langchain-openai) (3.0.0)\n",
      "Requirement already satisfied: httpx<1,>=0.23.0 in /Users/heewongwak/.pyenv/versions/inflearn-llm-application/lib/python3.9/site-packages (from langsmith<0.3,>=0.1.125->langchain-core<0.4.0,>=0.3.21->langchain-openai) (0.28.1)\n",
      "Requirement already satisfied: requests<3,>=2 in /Users/heewongwak/.pyenv/versions/inflearn-llm-application/lib/python3.9/site-packages (from langsmith<0.3,>=0.1.125->langchain-core<0.4.0,>=0.3.21->langchain-openai) (2.32.3)\n",
      "Requirement already satisfied: requests-toolbelt<2.0.0,>=1.0.0 in /Users/heewongwak/.pyenv/versions/inflearn-llm-application/lib/python3.9/site-packages (from langsmith<0.3,>=0.1.125->langchain-core<0.4.0,>=0.3.21->langchain-openai) (1.0.0)\n",
      "Requirement already satisfied: orjson<4.0.0,>=3.9.14 in /Users/heewongwak/.pyenv/versions/inflearn-llm-application/lib/python3.9/site-packages (from langsmith<0.3,>=0.1.125->langchain-core<0.4.0,>=0.3.21->langchain-openai) (3.10.12)\n",
      "Requirement already satisfied: anyio in /Users/heewongwak/.pyenv/versions/inflearn-llm-application/lib/python3.9/site-packages (from httpx<1,>=0.23.0->langsmith<0.3,>=0.1.125->langchain-core<0.4.0,>=0.3.21->langchain-openai) (4.7.0)\n",
      "Requirement already satisfied: certifi in /Users/heewongwak/.pyenv/versions/inflearn-llm-application/lib/python3.9/site-packages (from httpx<1,>=0.23.0->langsmith<0.3,>=0.1.125->langchain-core<0.4.0,>=0.3.21->langchain-openai) (2024.12.14)\n",
      "Requirement already satisfied: idna in /Users/heewongwak/.pyenv/versions/inflearn-llm-application/lib/python3.9/site-packages (from httpx<1,>=0.23.0->langsmith<0.3,>=0.1.125->langchain-core<0.4.0,>=0.3.21->langchain-openai) (3.10)\n",
      "Requirement already satisfied: httpcore==1.* in /Users/heewongwak/.pyenv/versions/inflearn-llm-application/lib/python3.9/site-packages (from httpx<1,>=0.23.0->langsmith<0.3,>=0.1.125->langchain-core<0.4.0,>=0.3.21->langchain-openai) (1.0.7)\n",
      "Requirement already satisfied: h11<0.15,>=0.13 in /Users/heewongwak/.pyenv/versions/inflearn-llm-application/lib/python3.9/site-packages (from httpcore==1.*->httpx<1,>=0.23.0->langsmith<0.3,>=0.1.125->langchain-core<0.4.0,>=0.3.21->langchain-openai) (0.14.0)\n",
      "Requirement already satisfied: tqdm>4 in /Users/heewongwak/.pyenv/versions/inflearn-llm-application/lib/python3.9/site-packages (from openai<2.0.0,>=1.55.3->langchain-openai) (4.67.1)\n",
      "Requirement already satisfied: jiter<1,>=0.4.0 in /Users/heewongwak/.pyenv/versions/inflearn-llm-application/lib/python3.9/site-packages (from openai<2.0.0,>=1.55.3->langchain-openai) (0.8.2)\n",
      "Requirement already satisfied: sniffio in /Users/heewongwak/.pyenv/versions/inflearn-llm-application/lib/python3.9/site-packages (from openai<2.0.0,>=1.55.3->langchain-openai) (1.3.1)\n",
      "Requirement already satisfied: distro<2,>=1.7.0 in /Users/heewongwak/.pyenv/versions/inflearn-llm-application/lib/python3.9/site-packages (from openai<2.0.0,>=1.55.3->langchain-openai) (1.9.0)\n",
      "Requirement already satisfied: exceptiongroup>=1.0.2 in /Users/heewongwak/.pyenv/versions/inflearn-llm-application/lib/python3.9/site-packages (from anyio->httpx<1,>=0.23.0->langsmith<0.3,>=0.1.125->langchain-core<0.4.0,>=0.3.21->langchain-openai) (1.2.2)\n",
      "Requirement already satisfied: annotated-types>=0.6.0 in /Users/heewongwak/.pyenv/versions/inflearn-llm-application/lib/python3.9/site-packages (from pydantic<3.0.0,>=2.5.2->langchain-core<0.4.0,>=0.3.21->langchain-openai) (0.7.0)\n",
      "Requirement already satisfied: pydantic-core==2.27.1 in /Users/heewongwak/.pyenv/versions/inflearn-llm-application/lib/python3.9/site-packages (from pydantic<3.0.0,>=2.5.2->langchain-core<0.4.0,>=0.3.21->langchain-openai) (2.27.1)\n",
      "Requirement already satisfied: urllib3<3,>=1.21.1 in /Users/heewongwak/.pyenv/versions/inflearn-llm-application/lib/python3.9/site-packages (from requests<3,>=2->langsmith<0.3,>=0.1.125->langchain-core<0.4.0,>=0.3.21->langchain-openai) (2.2.3)\n",
      "Requirement already satisfied: charset-normalizer<4,>=2 in /Users/heewongwak/.pyenv/versions/inflearn-llm-application/lib/python3.9/site-packages (from requests<3,>=2->langsmith<0.3,>=0.1.125->langchain-core<0.4.0,>=0.3.21->langchain-openai) (3.4.0)\n",
      "Requirement already satisfied: regex>=2022.1.18 in /Users/heewongwak/.pyenv/versions/inflearn-llm-application/lib/python3.9/site-packages (from tiktoken<1,>=0.7->langchain-openai) (2024.11.6)\n",
      "\u001b[33mWARNING: You are using pip version 21.2.4; however, version 24.3.1 is available.\n",
      "You should consider upgrading via the '/Users/heewongwak/.pyenv/versions/inflearn-llm-application/bin/python -m pip install --upgrade pip' command.\u001b[0m\n",
      "Note: you may need to restart the kernel to use updated packages.\n"
     ]
    }
   ],
   "source": [
    "%pip install langchain-openai python-dotenv"
   ]
  },
  {
   "cell_type": "code",
   "execution_count": 2,
   "metadata": {},
   "outputs": [
    {
     "data": {
      "text/plain": [
       "True"
      ]
     },
     "execution_count": 2,
     "metadata": {},
     "output_type": "execute_result"
    }
   ],
   "source": [
    "from dotenv import load_dotenv\n",
    "\n",
    "load_dotenv()"
   ]
  },
  {
   "cell_type": "code",
   "execution_count": 5,
   "metadata": {},
   "outputs": [
    {
     "data": {
      "text/plain": [
       "AIMessage(content=\"Hello! I'm just a computer program, so I don't have feelings, but I'm here to help. How can I assist you today?\", additional_kwargs={'refusal': None}, response_metadata={'token_usage': {'completion_tokens': 30, 'prompt_tokens': 13, 'total_tokens': 43, 'completion_tokens_details': {'accepted_prediction_tokens': 0, 'audio_tokens': 0, 'reasoning_tokens': 0, 'rejected_prediction_tokens': 0}, 'prompt_tokens_details': {'audio_tokens': 0, 'cached_tokens': 0}}, 'model_name': 'gpt-3.5-turbo-0125', 'system_fingerprint': None, 'finish_reason': 'stop', 'logprobs': None}, id='run-534d5e47-e902-4c1c-ab26-cc6784cb0e44-0', usage_metadata={'input_tokens': 13, 'output_tokens': 30, 'total_tokens': 43, 'input_token_details': {'audio': 0, 'cache_read': 0}, 'output_token_details': {'audio': 0, 'reasoning': 0}})"
      ]
     },
     "execution_count": 5,
     "metadata": {},
     "output_type": "execute_result"
    }
   ],
   "source": [
    "from langchain_openai import ChatOpenAI\n",
    "\n",
    "llm = ChatOpenAI()\n",
    "\n",
    "llm.invoke(\"Hello, how are you?\")"
   ]
  },
  {
   "cell_type": "code",
   "execution_count": null,
   "metadata": {},
   "outputs": [],
   "source": []
  },
  {
   "cell_type": "markdown",
   "metadata": {},
   "source": []
  }
 ],
 "metadata": {
  "kernelspec": {
   "display_name": "inflearn-llm-application",
   "language": "python",
   "name": "python3"
  },
  "language_info": {
   "codemirror_mode": {
    "name": "ipython",
    "version": 3
   },
   "file_extension": ".py",
   "mimetype": "text/x-python",
   "name": "python",
   "nbconvert_exporter": "python",
   "pygments_lexer": "ipython3",
   "version": "3.9.6"
  }
 },
 "nbformat": 4,
 "nbformat_minor": 2
}
