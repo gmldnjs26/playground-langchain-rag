{
 "cells": [
  {
   "cell_type": "markdown",
   "metadata": {},
   "source": [
    "1. 문서의 내용을 읽는다.\n",
    "2. 문서를 쪼갠다.\n",
    "- 토큰수 초과로 답변을 생성하지 못할 수 있고\n",
    "- 문서가 길면 (인풋이 길면) 답변 생성이 오래거림\n",
    "3. 임베딩 -> 벡터 데이터베이스에 저장\n",
    "4. 질문이 있을때, 벡터 데이터베이스에 유사도 검색\n",
    "5. 유사도 검색으로 가져온 문서를 LLM에 질문과 같이 전달"
   ]
  },
  {
   "cell_type": "code",
   "execution_count": 3,
   "metadata": {},
   "outputs": [
    {
     "name": "stdout",
     "output_type": "stream",
     "text": [
      "\u001b[33mWARNING: You are using pip version 21.2.4; however, version 25.0 is available.\n",
      "You should consider upgrading via the '/Users/heewongwak/.pyenv/versions/inflearn-llm-application/bin/python -m pip install --upgrade pip' command.\u001b[0m\n",
      "Note: you may need to restart the kernel to use updated packages.\n",
      "\u001b[33mWARNING: You are using pip version 21.2.4; however, version 25.0 is available.\n",
      "You should consider upgrading via the '/Users/heewongwak/.pyenv/versions/inflearn-llm-application/bin/python -m pip install --upgrade pip' command.\u001b[0m\n",
      "Note: you may need to restart the kernel to use updated packages.\n",
      "Collecting langchain-pinecone\n",
      "  Downloading langchain_pinecone-0.2.2-py3-none-any.whl (11 kB)\n",
      "Requirement already satisfied: numpy<2.0.0,>=1.26.0 in /Users/heewongwak/.pyenv/versions/inflearn-llm-application/lib/python3.9/site-packages (from langchain-pinecone) (1.26.4)\n",
      "Requirement already satisfied: langchain-core<0.4.0,>=0.3.29 in /Users/heewongwak/.pyenv/versions/inflearn-llm-application/lib/python3.9/site-packages (from langchain-pinecone) (0.3.31)\n",
      "Collecting aiohttp<3.11,>=3.10\n",
      "  Downloading aiohttp-3.10.11-cp39-cp39-macosx_11_0_arm64.whl (392 kB)\n",
      "\u001b[K     |████████████████████████████████| 392 kB 6.0 MB/s eta 0:00:01\n",
      "\u001b[?25hCollecting pinecone<6.0.0,>=5.4.0\n",
      "  Downloading pinecone-5.4.2-py3-none-any.whl (427 kB)\n",
      "\u001b[K     |████████████████████████████████| 427 kB 11.3 MB/s eta 0:00:01\n",
      "\u001b[?25hCollecting langchain-tests<0.4.0,>=0.3.7\n",
      "  Downloading langchain_tests-0.3.9-py3-none-any.whl (36 kB)\n",
      "Requirement already satisfied: attrs>=17.3.0 in /Users/heewongwak/.pyenv/versions/inflearn-llm-application/lib/python3.9/site-packages (from aiohttp<3.11,>=3.10->langchain-pinecone) (24.3.0)\n",
      "Requirement already satisfied: aiosignal>=1.1.2 in /Users/heewongwak/.pyenv/versions/inflearn-llm-application/lib/python3.9/site-packages (from aiohttp<3.11,>=3.10->langchain-pinecone) (1.3.2)\n",
      "Requirement already satisfied: multidict<7.0,>=4.5 in /Users/heewongwak/.pyenv/versions/inflearn-llm-application/lib/python3.9/site-packages (from aiohttp<3.11,>=3.10->langchain-pinecone) (6.1.0)\n",
      "Requirement already satisfied: aiohappyeyeballs>=2.3.0 in /Users/heewongwak/.pyenv/versions/inflearn-llm-application/lib/python3.9/site-packages (from aiohttp<3.11,>=3.10->langchain-pinecone) (2.4.4)\n",
      "Requirement already satisfied: async-timeout<6.0,>=4.0 in /Users/heewongwak/.pyenv/versions/inflearn-llm-application/lib/python3.9/site-packages (from aiohttp<3.11,>=3.10->langchain-pinecone) (4.0.3)\n",
      "Requirement already satisfied: yarl<2.0,>=1.12.0 in /Users/heewongwak/.pyenv/versions/inflearn-llm-application/lib/python3.9/site-packages (from aiohttp<3.11,>=3.10->langchain-pinecone) (1.18.3)\n",
      "Requirement already satisfied: frozenlist>=1.1.1 in /Users/heewongwak/.pyenv/versions/inflearn-llm-application/lib/python3.9/site-packages (from aiohttp<3.11,>=3.10->langchain-pinecone) (1.5.0)\n",
      "Requirement already satisfied: tenacity!=8.4.0,<10.0.0,>=8.1.0 in /Users/heewongwak/.pyenv/versions/inflearn-llm-application/lib/python3.9/site-packages (from langchain-core<0.4.0,>=0.3.29->langchain-pinecone) (9.0.0)\n",
      "Requirement already satisfied: packaging<25,>=23.2 in /Users/heewongwak/.pyenv/versions/inflearn-llm-application/lib/python3.9/site-packages (from langchain-core<0.4.0,>=0.3.29->langchain-pinecone) (24.2)\n",
      "Requirement already satisfied: jsonpatch<2.0,>=1.33 in /Users/heewongwak/.pyenv/versions/inflearn-llm-application/lib/python3.9/site-packages (from langchain-core<0.4.0,>=0.3.29->langchain-pinecone) (1.33)\n",
      "Requirement already satisfied: langsmith<0.4,>=0.1.125 in /Users/heewongwak/.pyenv/versions/inflearn-llm-application/lib/python3.9/site-packages (from langchain-core<0.4.0,>=0.3.29->langchain-pinecone) (0.2.3)\n",
      "Requirement already satisfied: PyYAML>=5.3 in /Users/heewongwak/.pyenv/versions/inflearn-llm-application/lib/python3.9/site-packages (from langchain-core<0.4.0,>=0.3.29->langchain-pinecone) (6.0.2)\n",
      "Requirement already satisfied: typing-extensions>=4.7 in /Users/heewongwak/.pyenv/versions/inflearn-llm-application/lib/python3.9/site-packages (from langchain-core<0.4.0,>=0.3.29->langchain-pinecone) (4.12.2)\n",
      "Requirement already satisfied: pydantic<3.0.0,>=2.5.2 in /Users/heewongwak/.pyenv/versions/inflearn-llm-application/lib/python3.9/site-packages (from langchain-core<0.4.0,>=0.3.29->langchain-pinecone) (2.10.3)\n",
      "Requirement already satisfied: jsonpointer>=1.9 in /Users/heewongwak/.pyenv/versions/inflearn-llm-application/lib/python3.9/site-packages (from jsonpatch<2.0,>=1.33->langchain-core<0.4.0,>=0.3.29->langchain-pinecone) (3.0.0)\n",
      "Collecting pytest-socket<1,>=0.6.0\n",
      "  Downloading pytest_socket-0.7.0-py3-none-any.whl (6.8 kB)\n",
      "Collecting pytest-asyncio<1,>=0.20\n",
      "  Downloading pytest_asyncio-0.25.2-py3-none-any.whl (19 kB)\n",
      "Collecting syrupy<5,>=4\n",
      "  Downloading syrupy-4.8.1-py3-none-any.whl (50 kB)\n",
      "\u001b[K     |████████████████████████████████| 50 kB 11.3 MB/s eta 0:00:01\n",
      "\u001b[?25hCollecting pytest<9,>=7\n",
      "  Downloading pytest-8.3.4-py3-none-any.whl (343 kB)\n",
      "\u001b[K     |████████████████████████████████| 343 kB 11.0 MB/s eta 0:00:01\n",
      "\u001b[?25hRequirement already satisfied: httpx<1,>=0.25.0 in /Users/heewongwak/.pyenv/versions/inflearn-llm-application/lib/python3.9/site-packages (from langchain-tests<0.4.0,>=0.3.7->langchain-pinecone) (0.28.1)\n",
      "Requirement already satisfied: anyio in /Users/heewongwak/.pyenv/versions/inflearn-llm-application/lib/python3.9/site-packages (from httpx<1,>=0.25.0->langchain-tests<0.4.0,>=0.3.7->langchain-pinecone) (4.7.0)\n",
      "Requirement already satisfied: certifi in /Users/heewongwak/.pyenv/versions/inflearn-llm-application/lib/python3.9/site-packages (from httpx<1,>=0.25.0->langchain-tests<0.4.0,>=0.3.7->langchain-pinecone) (2024.12.14)\n",
      "Requirement already satisfied: idna in /Users/heewongwak/.pyenv/versions/inflearn-llm-application/lib/python3.9/site-packages (from httpx<1,>=0.25.0->langchain-tests<0.4.0,>=0.3.7->langchain-pinecone) (3.10)\n",
      "Requirement already satisfied: httpcore==1.* in /Users/heewongwak/.pyenv/versions/inflearn-llm-application/lib/python3.9/site-packages (from httpx<1,>=0.25.0->langchain-tests<0.4.0,>=0.3.7->langchain-pinecone) (1.0.7)\n",
      "Requirement already satisfied: h11<0.15,>=0.13 in /Users/heewongwak/.pyenv/versions/inflearn-llm-application/lib/python3.9/site-packages (from httpcore==1.*->httpx<1,>=0.25.0->langchain-tests<0.4.0,>=0.3.7->langchain-pinecone) (0.14.0)\n",
      "Requirement already satisfied: requests<3,>=2 in /Users/heewongwak/.pyenv/versions/inflearn-llm-application/lib/python3.9/site-packages (from langsmith<0.4,>=0.1.125->langchain-core<0.4.0,>=0.3.29->langchain-pinecone) (2.32.3)\n",
      "Requirement already satisfied: requests-toolbelt<2.0.0,>=1.0.0 in /Users/heewongwak/.pyenv/versions/inflearn-llm-application/lib/python3.9/site-packages (from langsmith<0.4,>=0.1.125->langchain-core<0.4.0,>=0.3.29->langchain-pinecone) (1.0.0)\n",
      "Requirement already satisfied: orjson<4.0.0,>=3.9.14 in /Users/heewongwak/.pyenv/versions/inflearn-llm-application/lib/python3.9/site-packages (from langsmith<0.4,>=0.1.125->langchain-core<0.4.0,>=0.3.29->langchain-pinecone) (3.10.12)\n",
      "Requirement already satisfied: python-dateutil>=2.5.3 in /Users/heewongwak/.pyenv/versions/inflearn-llm-application/lib/python3.9/site-packages (from pinecone<6.0.0,>=5.4.0->langchain-pinecone) (2.9.0.post0)\n",
      "Collecting pinecone-plugin-inference<4.0.0,>=2.0.0\n",
      "  Downloading pinecone_plugin_inference-3.1.0-py3-none-any.whl (87 kB)\n",
      "\u001b[K     |████████████████████████████████| 87 kB 9.5 MB/s  eta 0:00:01\n",
      "\u001b[?25hRequirement already satisfied: tqdm>=4.64.1 in /Users/heewongwak/.pyenv/versions/inflearn-llm-application/lib/python3.9/site-packages (from pinecone<6.0.0,>=5.4.0->langchain-pinecone) (4.67.1)\n",
      "Collecting pinecone-plugin-interface<0.0.8,>=0.0.7\n",
      "  Downloading pinecone_plugin_interface-0.0.7-py3-none-any.whl (6.2 kB)\n",
      "Requirement already satisfied: urllib3>=1.26.0 in /Users/heewongwak/.pyenv/versions/inflearn-llm-application/lib/python3.9/site-packages (from pinecone<6.0.0,>=5.4.0->langchain-pinecone) (2.2.3)\n",
      "Requirement already satisfied: pydantic-core==2.27.1 in /Users/heewongwak/.pyenv/versions/inflearn-llm-application/lib/python3.9/site-packages (from pydantic<3.0.0,>=2.5.2->langchain-core<0.4.0,>=0.3.29->langchain-pinecone) (2.27.1)\n",
      "Requirement already satisfied: annotated-types>=0.6.0 in /Users/heewongwak/.pyenv/versions/inflearn-llm-application/lib/python3.9/site-packages (from pydantic<3.0.0,>=2.5.2->langchain-core<0.4.0,>=0.3.29->langchain-pinecone) (0.7.0)\n",
      "Collecting iniconfig\n",
      "  Downloading iniconfig-2.0.0-py3-none-any.whl (5.9 kB)\n",
      "Requirement already satisfied: exceptiongroup>=1.0.0rc8 in /Users/heewongwak/.pyenv/versions/inflearn-llm-application/lib/python3.9/site-packages (from pytest<9,>=7->langchain-tests<0.4.0,>=0.3.7->langchain-pinecone) (1.2.2)\n",
      "Requirement already satisfied: tomli>=1 in /Users/heewongwak/.pyenv/versions/inflearn-llm-application/lib/python3.9/site-packages (from pytest<9,>=7->langchain-tests<0.4.0,>=0.3.7->langchain-pinecone) (2.2.1)\n",
      "Collecting pluggy<2,>=1.5\n",
      "  Downloading pluggy-1.5.0-py3-none-any.whl (20 kB)\n",
      "Requirement already satisfied: six>=1.5 in /Users/heewongwak/.pyenv/versions/inflearn-llm-application/lib/python3.9/site-packages (from python-dateutil>=2.5.3->pinecone<6.0.0,>=5.4.0->langchain-pinecone) (1.17.0)\n",
      "Requirement already satisfied: charset-normalizer<4,>=2 in /Users/heewongwak/.pyenv/versions/inflearn-llm-application/lib/python3.9/site-packages (from requests<3,>=2->langsmith<0.4,>=0.1.125->langchain-core<0.4.0,>=0.3.29->langchain-pinecone) (3.4.0)\n",
      "Requirement already satisfied: propcache>=0.2.0 in /Users/heewongwak/.pyenv/versions/inflearn-llm-application/lib/python3.9/site-packages (from yarl<2.0,>=1.12.0->aiohttp<3.11,>=3.10->langchain-pinecone) (0.2.1)\n",
      "Requirement already satisfied: sniffio>=1.1 in /Users/heewongwak/.pyenv/versions/inflearn-llm-application/lib/python3.9/site-packages (from anyio->httpx<1,>=0.25.0->langchain-tests<0.4.0,>=0.3.7->langchain-pinecone) (1.3.1)\n",
      "Installing collected packages: pluggy, iniconfig, pytest, pinecone-plugin-interface, syrupy, pytest-socket, pytest-asyncio, pinecone-plugin-inference, pinecone, langchain-tests, aiohttp, langchain-pinecone\n",
      "  Attempting uninstall: aiohttp\n",
      "    Found existing installation: aiohttp 3.11.11\n",
      "    Uninstalling aiohttp-3.11.11:\n",
      "      Successfully uninstalled aiohttp-3.11.11\n",
      "Successfully installed aiohttp-3.10.11 iniconfig-2.0.0 langchain-pinecone-0.2.2 langchain-tests-0.3.9 pinecone-5.4.2 pinecone-plugin-inference-3.1.0 pinecone-plugin-interface-0.0.7 pluggy-1.5.0 pytest-8.3.4 pytest-asyncio-0.25.2 pytest-socket-0.7.0 syrupy-4.8.1\n",
      "\u001b[33mWARNING: You are using pip version 21.2.4; however, version 25.0 is available.\n",
      "You should consider upgrading via the '/Users/heewongwak/.pyenv/versions/inflearn-llm-application/bin/python -m pip install --upgrade pip' command.\u001b[0m\n",
      "Note: you may need to restart the kernel to use updated packages.\n"
     ]
    }
   ],
   "source": [
    "%pip install --upgrade --quiet docx2txt langchain-community\n",
    "%pip install -qU langchain-text-splitters"
   ]
  },
  {
   "cell_type": "code",
   "execution_count": 2,
   "metadata": {},
   "outputs": [
    {
     "name": "stderr",
     "output_type": "stream",
     "text": [
      "/Users/heewongwak/.pyenv/versions/inflearn-llm-application/lib/python3.9/site-packages/urllib3/__init__.py:35: NotOpenSSLWarning: urllib3 v2 only supports OpenSSL 1.1.1+, currently the 'ssl' module is compiled with 'LibreSSL 2.8.3'. See: https://github.com/urllib3/urllib3/issues/3020\n",
      "  warnings.warn(\n"
     ]
    }
   ],
   "source": [
    "from langchain_community.document_loaders import Docx2txtLoader\n",
    "from langchain_text_splitters import RecursiveCharacterTextSplitter\n",
    "\n",
    "text_splitter = RecursiveCharacterTextSplitter(\n",
    "  chunk_size=1500,\n",
    "  chunk_overlap=200, # 문서를 겹치게 하면 유사도 검색을 할 때 우리가 원하는 문서를 가지고 올 확률을 높임\n",
    ")\n",
    "\n",
    "loader = Docx2txtLoader('./tax.docx')\n",
    "document_list = loader.load_and_split(text_splitter)\n"
   ]
  },
  {
   "cell_type": "code",
   "execution_count": 5,
   "metadata": {},
   "outputs": [],
   "source": [
    "from dotenv import load_dotenv\n",
    "from langchain_openai import OpenAIEmbeddings\n",
    "\n",
    "load_dotenv() # OpenAIEmbeddings의 로드를 위해서 필요\n",
    "\n",
    "embeddings = OpenAIEmbeddings(model=\"text-embedding-3-large\")"
   ]
  },
  {
   "cell_type": "code",
   "execution_count": null,
   "metadata": {},
   "outputs": [],
   "source": [
    "%pip install langchain-pinecone"
   ]
  },
  {
   "cell_type": "code",
   "execution_count": 6,
   "metadata": {},
   "outputs": [],
   "source": [
    "import os\n",
    "\n",
    "pinecone_api_key = os.environ.get(\"PINECONE_API_KEY\")\n",
    "pinecone_api_key\n",
    "\n",
    "from pinecone import Pinecone\n",
    "\n",
    "pc = Pinecone(api_key=pinecone_api_key)"
   ]
  },
  {
   "cell_type": "code",
   "execution_count": 9,
   "metadata": {},
   "outputs": [],
   "source": [
    "\n",
    "from langchain_pinecone import PineconeVectorStore\n",
    "\n",
    "database = PineconeVectorStore.from_documents(\n",
    "  documents=document_list,\n",
    "  embedding=embeddings,\n",
    "  index_name=\"tax-index\"\n",
    ")"
   ]
  },
  {
   "cell_type": "code",
   "execution_count": 22,
   "metadata": {},
   "outputs": [],
   "source": [
    "query = \"연봉 5억인 직장인의 소득세는 얼마인가요?\" # 존댓말로 하면 답변이 더 좋을 수 있다? 라는 썰이 있다고 한다.\n",
    "retrieved_docs = database.similarity_search(query, k=3) # 내 쿼리에 맞춰 유사도 검색을 하는데 관련 문서(데이터)를 3개를 가져온다."
   ]
  },
  {
   "cell_type": "code",
   "execution_count": 17,
   "metadata": {},
   "outputs": [],
   "source": [
    "from langchain_openai import ChatOpenAI\n",
    "\n",
    "llm = ChatOpenAI(model=\"gpt-4o\", temperature=0)"
   ]
  },
  {
   "cell_type": "code",
   "execution_count": 18,
   "metadata": {},
   "outputs": [
    {
     "name": "stdout",
     "output_type": "stream",
     "text": [
      "\u001b[33mWARNING: You are using pip version 21.2.4; however, version 25.0 is available.\n",
      "You should consider upgrading via the '/Users/heewongwak/.pyenv/versions/inflearn-llm-application/bin/python -m pip install --upgrade pip' command.\u001b[0m\n",
      "Note: you may need to restart the kernel to use updated packages.\n"
     ]
    }
   ],
   "source": [
    "%pip install -U langchain langchainhub --quiet"
   ]
  },
  {
   "cell_type": "code",
   "execution_count": 19,
   "metadata": {},
   "outputs": [
    {
     "name": "stderr",
     "output_type": "stream",
     "text": [
      "/Users/heewongwak/.pyenv/versions/inflearn-llm-application/lib/python3.9/site-packages/langsmith/client.py:261: LangSmithMissingAPIKeyWarning: API key must be provided when using hosted LangSmith API\n",
      "  warnings.warn(\n"
     ]
    }
   ],
   "source": [
    "from langchain import hub\n",
    "prompt = hub.pull(\"rlm/rag-prompt\")"
   ]
  },
  {
   "cell_type": "code",
   "execution_count": 20,
   "metadata": {},
   "outputs": [],
   "source": [
    "from langchain.chains import RetrievalQA\n",
    "\n",
    "qa_chain = RetrievalQA.from_chain_type(\n",
    "  llm=llm,\n",
    "  retriever=database.as_retriever(),\n",
    "  chain_type_kwargs={\"prompt\": prompt}\n",
    ")"
   ]
  },
  {
   "cell_type": "code",
   "execution_count": 23,
   "metadata": {},
   "outputs": [
    {
     "data": {
      "text/plain": [
       "{'query': '연봉 5억인 직장인의 소득세는 얼마인가요?',\n",
       " 'result': '죄송하지만, 제공된 문맥에서는 연봉 5억 원인 직장인의 소득세를 계산하는 데 필요한 구체적인 세율이나 공제 항목에 대한 정보가 없습니다. 소득세 계산을 위해서는 해당 연도의 세율표와 공제 항목을 참조해야 합니다. 한국의 국세청 웹사이트나 세무 전문가에게 문의하는 것이 정확한 정보를 얻는 데 도움이 될 것입니다.'}"
      ]
     },
     "execution_count": 23,
     "metadata": {},
     "output_type": "execute_result"
    }
   ],
   "source": [
    "ai_message = qa_chain({\"query\": query})\n",
    "ai_message"
   ]
  },
  {
   "cell_type": "code",
   "execution_count": null,
   "metadata": {},
   "outputs": [],
   "source": []
  }
 ],
 "metadata": {
  "kernelspec": {
   "display_name": "inflearn-llm-application",
   "language": "python",
   "name": "python3"
  },
  "language_info": {
   "codemirror_mode": {
    "name": "ipython",
    "version": 3
   },
   "file_extension": ".py",
   "mimetype": "text/x-python",
   "name": "python",
   "nbconvert_exporter": "python",
   "pygments_lexer": "ipython3",
   "version": "3.9.6"
  }
 },
 "nbformat": 4,
 "nbformat_minor": 2
}
